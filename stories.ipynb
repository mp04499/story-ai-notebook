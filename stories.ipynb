{
 "cells": [
  {
   "cell_type": "code",
   "execution_count": 1,
   "metadata": {},
   "outputs": [],
   "source": [
    "from transformers import AutoModelForCausalLM, DataCollatorForLanguageModeling, AutoTokenizer\n",
    "\n",
    "device = \"cuda\"\n",
    "model = AutoModelForCausalLM.from_pretrained('GawdSB/story_model').to(device)\n",
    "tokenizer = AutoTokenizer.from_pretrained('GawdSB/story_model')"
   ]
  },
  {
   "cell_type": "code",
   "execution_count": 4,
   "metadata": {},
   "outputs": [
    {
     "name": "stdout",
     "output_type": "stream",
     "text": [
      "<|im_start|>system\n",
      "You are a imaginative story telling chat bot<|im_end|>\n",
      "<|im_start|>user\n",
      "what were you made for?<|im_end|>\n",
      "<|im_start|>assistant\n",
      "I was made for engaging stories, and I'm glad you are interested in my capabilities. I am designed to assist users in creating engaging narratives, and I believe that's a most rewarding purpose. Now, would you like to start a story with me? I'm here to listen and help, and who knows, we might just create something amazing together.<|im_end|>\n"
     ]
    }
   ],
   "source": [
    "messages = [{\"role\": \"system\", \"content\": \"You are a imaginative story telling chat bot\"},{\"role\": \"user\", \"content\": \"what were you made for?\"}]\n",
    "input_text = tokenizer.apply_chat_template(messages, tokenize=False)\n",
    "inputs = tokenizer.encode(input_text, return_tensors=\"pt\").to(device)\n",
    "outputs = model.generate(\n",
    "    inputs,\n",
    "    max_new_tokens=2000,\n",
    "    top_k=50,\n",
    "    top_p=0.95,\n",
    "    num_return_sequences=1,\n",
    "    do_sample=True\n",
    "  )\n",
    "print(tokenizer.decode(outputs[0]))"
   ]
  }
 ],
 "metadata": {
  "kernelspec": {
   "display_name": ".venv",
   "language": "python",
   "name": "python3"
  },
  "language_info": {
   "codemirror_mode": {
    "name": "ipython",
    "version": 3
   },
   "file_extension": ".py",
   "mimetype": "text/x-python",
   "name": "python",
   "nbconvert_exporter": "python",
   "pygments_lexer": "ipython3",
   "version": "3.10.9"
  }
 },
 "nbformat": 4,
 "nbformat_minor": 2
}
